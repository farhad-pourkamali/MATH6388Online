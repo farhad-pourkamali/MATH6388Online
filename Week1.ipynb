{
 "cells": [
  {
   "cell_type": "markdown",
   "id": "635306fe",
   "metadata": {},
   "source": [
    "## Statistical and Machine Learning, Fall 2024\n",
    "\n",
    "### Week 1: Mathematical Building Blocks of Machine Learning\t\n",
    "\n",
    "### Instructor: Farhad Pourkamali \n",
    "\n",
    "[![Open In Colab](https://colab.research.google.com/assets/colab-badge.svg)](https://colab.research.google.com/github/farhad-pourkamali/MATH6388Online/blob/main/Week1.ipynb)\n",
    "\n"
   ]
  },
  {
   "cell_type": "markdown",
   "id": "180312c2",
   "metadata": {},
   "source": [
    "### Why use machine learning?\n",
    "<hr style=\"border:2px solid gray\">\n",
    "\n",
    "* Let's design a system for predicting *bank loan default* based on several *features*, such as income and debt\n",
    "\n",
    "    * Classical programming: write down step-by-step instructions or rules \n",
    "    * Machine learning: figure out what the rules should be \n",
    "    \n",
    "<img src=\"https://github.com/farhad-pourkamali/MATH6388/blob/main/images/rules.png?raw=true\" width=650>    \n",
    "\n",
    "* A machine learning system is *trained* rather than being explicitly programmed\n",
    "    * Benefits\n",
    "        + Easier to develop/maintain \n",
    "        + Possibly more accurate\n",
    "    * Challenges\n",
    "        + We need features *and* responses, i.e., labeled data \n",
    "        + Can human users understand and trust these rules? \n",
    "        \n",
    "* In machine learning, *data labeling* involves assigning informative labels to raw data like images, text files, or videos\n",
    "\n",
    "\n",
    "* Machine learning moves beyond the confines of traditional statistical techniques and optimization algorithms\n",
    "    * *Nonlinearity and complexity:* Unlike many traditional models that assume linear relationships, machine learning can capture complex, nonlinear patterns within data. \n",
    "    \n",
    "    * *Adaptability and generalization:* Machine learning models are designed to adapt and improve over time as they are exposed to more data. This allows them to generalize well to new, unseen situations, making them valuable for prediction and decision-making in dynamic environments.\n",
    "    \n",
    "    * *Scalability to big data:* Machine learning techniques are designed to handle large volumes of data efficiently, enabling analysis that would be infeasible with traditional approaches. \n",
    "    \n",
    "    * *Feature engineering and representation learning:* While traditional methods often rely on manual feature engineering, machine learning algorithms can automatically learn meaningful representations of data, reducing the burden on human experts.\n"
   ]
  },
  {
   "cell_type": "markdown",
   "id": "ed247cb2",
   "metadata": {},
   "source": [
    "### Learning rules and representations from data\n",
    "<hr style=\"border:2px solid gray\">\n",
    "\n",
    "* Let us revisit the bank loan default example\n",
    "    * We have some data points represented by their coordinates in $\\mathbb{R}^2$\n",
    "* Goal: develop a machine learning system that can take the coordinates $(x_1,x_2)$ of a sample and predict the label or outcome\n",
    "\n",
    "    * We can use logistic regression to solve this classification problem and find the classification rule\n",
    "\n",
    "<img src=\"\n",
    "https://github.com/farhad-pourkamali/MATH6388/blob/main/images/bank_logreg.png?raw=true\" width=350>    \n",
    "\n",
    "* What if we have a more extensive set of features? Debt, income, gender, occupation, photo, etc.\n",
    "    * Most interesting applications of machine learning involve\n",
    "        + High-dimensional data (e.g., thousands or millions of features)\n",
    "        + High-risk, high-reward investments\n",
    "    * Thus, modern machine learning (and deep learning) can be defined as finding suitable *data representations* and *mappings from inputs to outputs* using a feedback signal\n",
    "    \n",
    "<img src=\"\n",
    "https://github.com/farhad-pourkamali/MATH6388/blob/main/images/mnist_2d.png?raw=true\" width=740>\n",
    "    \n",
    "    \n",
    "    "
   ]
  },
  {
   "cell_type": "markdown",
   "id": "cd9cafeb",
   "metadata": {},
   "source": [
    "### Multistage way to learn data representations and find mappings \n",
    "<hr style=\"border:2px solid gray\">\n",
    "\n",
    "* While specific implementations might vary depending on the algorithm and framework being used, here's a general overview of the training loop for machine learning models\n",
    "\n",
    "<img src=\"\n",
    "https://github.com/farhad-pourkamali/MATH6388/blob/main/images/ml_general.png?raw=true\" width=700>\n"
   ]
  },
  {
   "cell_type": "markdown",
   "id": "8227bb6d",
   "metadata": {},
   "source": [
    "### Categorization of machine learning algorithms based on three criteria\n",
    "<hr style=\"border:2px solid gray\">\n",
    "\n",
    "1. Data Supervision\n",
    "\n",
    "    * Supervised Learning\n",
    "        + The algorithm is trained on labeled data, where the input data is paired with the correct output\n",
    "    \n",
    "    * Unsupervised Learning\n",
    "       + The algorithm is trained on unlabeled data, where the goal is to find hidden patterns or structure in the data, such as clustering or dimensionality reduction\n",
    "    \n",
    "    *  Semi-Supervised Learning\n",
    "        + This is a combination of supervised and unsupervised learning, where the algorithm is trained on a mix of labeled and unlabeled data\n",
    "        \n",
    "        <img src=\"https://github.com/farhad-pourkamali/MATH6388/blob/main/images/material.png?raw=true\" width=600>\n",
    "    \n",
    "2. Model Complexity\n",
    "\n",
    "    * Linear Models\n",
    "        + These models assume a linear relationship between the input features and the output\n",
    "    * Nonlinear Models\n",
    "        + These models can capture more complex relationships between the inputs and outputs, such as neural networks, decision trees, etc.\n",
    "    * Deep Learning\n",
    "        + A subset of nonlinear models, deep learning refers to models with many layers (deep neural networks) that can learn hierarchical features\n",
    "    \n",
    "3. Uncertainty Spectrum\n",
    "\n",
    "    * Deterministic Models\n",
    "        + These models make predictions without accounting for predictive uncertainty\n",
    "    * Conformal Prediction\n",
    "        + These models provide prediction intervals/sets with minimal distributional assumptions and computational burden \n",
    "    \n",
    "    * Bayesian Models\n",
    "        + These models explicitly use Bayesian probability principles to handle uncertainty, typically by modeling the uncertainty as probability distributions over model parameters"
   ]
  },
  {
   "cell_type": "markdown",
   "id": "70c391ea",
   "metadata": {},
   "source": [
    "### Mathematical building blocks of machine learning\n",
    "<hr style=\"border:2px solid gray\">\n",
    "\n",
    "* Supervised learning: learn a mapping or function $f$ from inputs (features/predictors) $\\mathbf{x}\\in\\mathcal{X}$ to outputs $\\mathbf{y}\\in\\mathcal{Y}$. The data set is given in the form of $N$ input-output pairs $\\mathcal{D}=\\{(\\mathbf{x}_n,\\mathbf{y}_n)\\}_{n=1}^N$\n",
    "    + $N$ is the sample size and the number of features is $D$, i.e., $\\mathcal{X}=\\mathbb{R}^D$\n",
    "    + Multi-class classification: $\\mathcal{Y}=\\{1,2,\\ldots, C\\}$\n",
    "    + If we have two classes only (binary classification): $\\mathcal{Y}=\\{0,1\\}$\n",
    "    \n"
   ]
  },
  {
   "cell_type": "markdown",
   "id": "570008a7",
   "metadata": {},
   "source": [
    "### Model fitting/training\n",
    "<hr style=\"border:2px solid gray\">\n",
    "\n",
    "* Define *empirical risk* as the average loss on the training data (denote all unknown parameters by $\\boldsymbol{\\theta}$)\n",
    "\n",
    "$$ \\mathcal{L}(\\boldsymbol{\\theta}):=\\frac{1}{N}\\sum_{n=1}^N l(y_n, f(\\mathbf{x}_n;\\boldsymbol{\\theta}))$$\n",
    "\n",
    "where $l$ denotes the loss function \n",
    "* Example: zero-one loss $l(y, \\hat{y})=I(y\\neq \\hat{y})$, giving misclassification rate\n",
    "\n",
    "$$I(y\\neq \\hat{y})=\\begin{cases}1 & \\text{if } y\\neq \\hat{y}\\\\0 &\\text{if } y=\\hat{y} \\end{cases}$$\n",
    "\n",
    "* Empirical risk minimization (ERM): find a setting of the parameters $\\boldsymbol{\\theta}$ that minimizes the empirical risk\n",
    "\n",
    "$$ \\underset{\\boldsymbol{\\theta}}{\\operatorname{argmin}} \\mathcal{L}(\\boldsymbol{\\theta})=\\underset{\\boldsymbol{\\theta}}{\\operatorname{argmin}} \\frac{1}{N}\\sum_{n=1}^N l(y_n, f(\\mathbf{x}_n;\\boldsymbol{\\theta}))$$\n",
    "\n",
    "* Note: our true goal is to minimize the expected loss on *future data* that we have not yet\n",
    "seen, rather than just do well on the training set "
   ]
  },
  {
   "cell_type": "markdown",
   "id": "09b3a738",
   "metadata": {},
   "source": [
    "### Loss function for regression tasks\n",
    "<hr style=\"border:2px solid gray\">\n",
    "\n",
    "* Since the output is real-valued, the most common choice is to use quadratic loss\n",
    "$$l(y,\\hat{y})=(y-\\hat{y})^2$$\n",
    "\n",
    "* Empirical risk minimization\n",
    "$$MSE(\\boldsymbol{\\theta})=\\frac{1}{N}\\sum_{n=1}^N\\big(y_n - f(\\mathbf{x}_n;\\boldsymbol{\\theta})\\big)^2$$\n",
    "\n",
    "* Underlying assumption for linear regression \n",
    "$$f(\\mathbf{x};\\boldsymbol{\\theta})=w_0+w_1x_1+\\ldots+w_Dx_D=w_0+\\mathbf{w}^T\\mathbf{x}$$\n",
    "\n",
    "where $\\mathbf{w}=[w_1,\\ldots,w_D]\\in\\mathbb{R}^D$, $\\mathbf{x}=[x_1,\\ldots,x_D]\\in\\mathbb{R}^D$, $\\boldsymbol{\\theta}=\\{w_0,\\mathbf{w}\\}$"
   ]
  },
  {
   "cell_type": "markdown",
   "id": "87a4f594",
   "metadata": {},
   "source": [
    "### From Linear Regression to Deep Learning \n",
    "<hr style=\"border:2px solid gray\">\n",
    "\n",
    "* Let $\\phi(\\mathbf{x})$ be a feature vector derived from the input $\\mathbf{x}$ \n",
    "    + For example, $\\phi$ can be expressed as a composition of simpler functions\n",
    "    \n",
    "    $$f(\\mathbf{x};\\boldsymbol{\\theta})=w_0+\\mathbf{w}^T\\phi(\\mathbf{x};\\mathbf{V}) $$\n",
    "    where $\\boldsymbol{\\theta}=\\{w_0,\\mathbf{w}, \\mathbf{V}\\}$"
   ]
  },
  {
   "cell_type": "markdown",
   "id": "216292a6",
   "metadata": {},
   "source": [
    "### Generalization\n",
    "\n",
    "<hr style=\"border:2px solid gray\">\n",
    "\n",
    "* Machine learning models tend to perform worse on new data than on their training data\n",
    "    * The model becomes overly specialized/sensitive to the training data (e.g., noise and randomness present in the data)\n",
    "\n",
    "* How to evaluate machine learning models and select the best one?\n",
    "\n",
    "* Train-Test Split\n",
    "    * The data set is divided into two  parts: a training set and a test set\n",
    "    * The training set is used to train the machine learning model, and the test set is used to evaluate its performance on new, unseen data\n",
    "\n",
    "    * Training risk: $\\mathcal{L}_{\\text{train}}:=\\frac{1}{|\\mathcal{D}_{\\text{train}}|}\\sum_{(\\mathbf{x},y)\\in\\mathcal{D}_{\\text{train}}}l(y,f(\\mathbf{x};\\boldsymbol{\\theta}))$\n",
    "\n",
    "    * Test risk: $\\mathcal{L}_{\\text{test}}:=\\frac{1}{|\\mathcal{D}_{\\text{test}}|}\\sum_{(\\mathbf{x},y)\\in\\mathcal{D}_{\\text{test}}}l(y,f(\\mathbf{x};\\boldsymbol{\\theta}))$\n",
    "\n",
    "    * Overfitting happens when $\\mathcal{L}_{\\text{test}}\\gg \\mathcal{L}_{\\text{train}}$\n",
    "\n",
    "    * Caveat: If you use the test set multiple times, you might end up overfitting to the test set itself\n",
    "    \n",
    "     <img src=\"https://github.com/farhad-pourkamali/MATH6388/blob/main/images/train_test.png?raw=true\" width=280>\n",
    "    \n",
    "\n",
    "* Train-Dev-Test Split\n",
    "    * Extends the concept of the train-test split by introducing a development (or validation) set\n",
    "    * Training set: Used to train the model's parameters\n",
    "    * Development (validation) set: Used to tune hyperparameters, assess different model architectures, and make decisions about the training process\n",
    "    * Test set: Used for the final evaluation of the model's performance\n",
    "    \n",
    "    <img src=\"https://github.com/farhad-pourkamali/MATH6388/blob/main/images/model_selection.png?raw=true\" width=420>\n",
    "    \n",
    "    \n"
   ]
  },
  {
   "cell_type": "markdown",
   "id": "9d35b9a1",
   "metadata": {},
   "source": [
    "### Maximum Likelihood Estimation\n",
    "\n",
    "<hr style=\"border:2px solid gray\">\n",
    "\n",
    "* Maximum Likelihood Estimation (MLE) is a statistical method used to *estimate* the parameters of a statistical model based on observed data\n",
    "\n",
    "    * The likelihood function quantifies the probability of observing the given data for different parameter values\n",
    "\n",
    "* Assume $N$ observations are independently sampled from the same distribution\n",
    "$$p(\\mathcal{D}|\\boldsymbol{\\theta})=\\prod_{n=1}^N p(\\mathbf{y}_n|\\mathbf{x}_n,\\boldsymbol{\\theta})$$\n",
    "* Find $\\boldsymbol{\\theta}$ at which the log likelihood (LL) function takes its maximum\n",
    "$$\\underset{\\boldsymbol{\\theta}}{\\operatorname{argmax}} LL(\\boldsymbol{\\theta}), \\text{where } LL(\\boldsymbol{\\theta}):=\\log p(\\mathcal{D}|\\boldsymbol{\\theta})= \\sum_{n=1}^N \\log p(\\mathbf{y}_n|\\mathbf{x}_n,\\boldsymbol{\\theta}) $$\n",
    "\n",
    "* Instead, minimize the negative log likelihood function (NLL)\n",
    "$$\\underset{\\boldsymbol{\\theta}}{\\operatorname{argmin}} - LL(\\boldsymbol{\\theta})=\\underset{\\boldsymbol{\\theta}}{\\operatorname{argmin}} \\sum_{n=1}^N \\underbrace{\\big(-\\log p(\\mathbf{y}_n|\\mathbf{x}_n,\\boldsymbol{\\theta})\\big)}_{\\text{loss function } l?}$$"
   ]
  },
  {
   "cell_type": "markdown",
   "id": "fa296f93",
   "metadata": {},
   "source": [
    "### Bernoulli distribution and MLE (practice)\n",
    "\n",
    "<hr style=\"border:2px solid gray\">\n",
    "\n",
    "* Probability density function (PDF) with parameter $\\theta$\n",
    "$$p(y|\\theta)=\\theta^{I(y=1)}(1-\\theta)^{I(y=0)}=\\begin{cases}\\theta & \\text{if } y=1 \\\\ 1-\\theta & \\text{if } y=0\\end{cases}$$\n",
    "\n",
    "* Given $N$ observations $y_1,\\ldots,y_n$, form NLL\n",
    "\n",
    "$$\\begin{align} NLL(\\theta) &= -\\sum_{n=1}^N \\log p(y_n|\\theta) \\\\ & = -\\sum_{n=1}^N \\big[I(y_n=1)\\log \\theta +I(y_n=0)\\log (1-\\theta)\\big]\\\\&=-\\big[\\big(\\sum_{n=1}^N I(y_n=1)\\big)\\log\\theta +  \\big(\\sum_{n=1}^N I(y_n=0)\\big)\\log(1-\\theta)\\big] \\end{align}$$"
   ]
  },
  {
   "cell_type": "markdown",
   "id": "40b02a05",
   "metadata": {},
   "source": [
    "### Bernoulli distribution and MLE (practice)\n",
    "\n",
    "<hr style=\"border:2px solid gray\">\n",
    "\n",
    "* Given $N$ observations with $N_1$ 1's and $N_0$ 0's \n",
    "\n",
    "$$NLL(\\theta)=-\\big[N_1\\log\\theta +N_0\\log(1-\\theta)\\big]$$\n",
    "\n",
    "* Set the derivative equal to 0 to find the solution\n",
    "\n",
    "$$\\frac{d}{d\\theta} NLL(\\theta)=-\\frac{N_1}{\\theta}+\\frac{N_0}{1-\\theta}=0\\rightarrow \\hat{\\theta}_{MLE}=\\frac{N_1}{N}$$\n"
   ]
  },
  {
   "cell_type": "code",
   "execution_count": 1,
   "id": "4cc3e825",
   "metadata": {},
   "outputs": [
    {
     "data": {
      "image/png": "[encoded data removed]",
      "text/plain": [
       "<Figure size 500x300 with 1 Axes>"
      ]
     },
     "metadata": {},
     "output_type": "display_data"
    }
   ],
   "source": [
    "import numpy as np \n",
    "import matplotlib.pyplot as plt\n",
    "\n",
    "plt.rcParams.update({'font.size': 14, \"figure.figsize\": (5,3)})\n",
    "\n",
    "N0, N1 = 40, 60\n",
    "\n",
    "def NLL(theta):\n",
    "    return -(N1*np.log(theta) + N0*np.log(1-theta)) \n",
    "\n",
    "theta = np.linspace(0.001,0.999,1000)\n",
    "plt.plot(theta, NLL(theta))\n",
    "plt.plot(theta[np.argmin(NLL(theta))], np.min(NLL(theta)), 'rD')\n",
    "plt.xlabel(r'$\\theta$')\n",
    "plt.ylabel(r'$NLL(\\theta)$', rotation=0)\n",
    "plt.grid()\n",
    "plt.show()"
   ]
  },
  {
   "cell_type": "markdown",
   "id": "941024ff",
   "metadata": {},
   "source": [
    "* In the `scipy.optimize` module, the `minimize` function is a versatile tool for finding the minimum value of a scalar function.\n",
    "\n",
    "* The following calls the `minimize` function with the following arguments:\n",
    "\n",
    "    * NLL: The function to be minimized. It should return the negative log-likelihood given theta.\n",
    "    \n",
    "    * initial_guess: The initial guess for the value of theta.\n",
    "    \n",
    "    * bounds: The bounds for theta."
   ]
  },
  {
   "cell_type": "code",
   "execution_count": 2,
   "id": "254f056b",
   "metadata": {},
   "outputs": [
    {
     "name": "stdout",
     "output_type": "stream",
     "text": [
      "  message: CONVERGENCE: NORM_OF_PROJECTED_GRADIENT_<=_PGTOL\n",
      "  success: True\n",
      "   status: 0\n",
      "      fun: 67.30116670092565\n",
      "        x: [ 6.000e-01]\n",
      "      nit: 5\n",
      "      jac: [ 0.000e+00]\n",
      "     nfev: 14\n",
      "     njev: 7\n",
      " hess_inv: <1x1 LbfgsInvHessProduct with dtype=float64>\n"
     ]
    }
   ],
   "source": [
    "from scipy.optimize import minimize\n",
    "\n",
    "initial_guess = [0.5]  # initial guess\n",
    "\n",
    "bounds = [(0.001, 0.999)]  # theta must be between 0.001 and 0.999    \n",
    "\n",
    "result = minimize(NLL, initial_guess, bounds=bounds)\n",
    "\n",
    "# Print the result\n",
    "print(result)"
   ]
  },
  {
   "cell_type": "code",
   "execution_count": 3,
   "id": "7e826608",
   "metadata": {},
   "outputs": [
    {
     "name": "stdout",
     "output_type": "stream",
     "text": [
      "[0.6]\n"
     ]
    }
   ],
   "source": [
    "print(result.x)"
   ]
  },
  {
   "cell_type": "markdown",
   "id": "b3493e4d",
   "metadata": {},
   "source": [
    "### Loss functions with many parameters\n",
    "\n",
    "* Optimization in machine learning goes far beyond simple single-variable cases.  Practical models often have a multitude of parameters that need to be fine-tuned. \n",
    "\n",
    "    * For example, in July 2024, Meta released the biggest version of its open source Llama large language model (LLM), a 405 billion-parameter version called Llama-3.1: https://ai.meta.com/blog/meta-llama-3-1/ \n",
    "\n",
    "    * A token in the context of LLMs is a unit of text that the model processes. Tokens can represent words, characters, or subwords, depending on the tokenization strategy used. \n",
    "    \n",
    "    <img src=\"https://github.com/farhad-pourkamali/MATH6388Online/blob/main/images/meta.png?raw=true\" width=700>"
   ]
  },
  {
   "cell_type": "markdown",
   "id": "33ce03d6",
   "metadata": {},
   "source": [
    "### Further reading\n",
    "\n",
    "* Chapter 1 of \"Probabilistic Machine Learning: An Introduction\" https://probml.github.io/pml-book/book1.html\n",
    "\n",
    "* Inside the maths that drives AI: https://doi.org/10.1038/d41586-024-02185-z\n",
    "    * \"Loss functions measure algorithmic errors in artificial-intelligence models, but there’s more than one way to do that!\""
   ]
  }
 ],
 "metadata": {
  "kernelspec": {
   "display_name": "Python 3 (ipykernel)",
   "language": "python",
   "name": "python3"
  },
  "language_info": {
   "codemirror_mode": {
    "name": "ipython",
    "version": 3
   },
   "file_extension": ".py",
   "mimetype": "text/x-python",
   "name": "python",
   "nbconvert_exporter": "python",
   "pygments_lexer": "ipython3",
   "version": "3.10.9"
  }
 },
 "nbformat": 4,
 "nbformat_minor": 5
}
