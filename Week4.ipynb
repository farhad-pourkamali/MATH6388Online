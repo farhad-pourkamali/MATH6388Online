{
 "cells": [
  {
   "cell_type": "markdown",
   "id": "635306fe",
   "metadata": {},
   "source": [
    "## Statistical and Machine Learning, Fall 2024\n",
    "\n",
    "### Week 4: Loss Function Derivation for Regression Problems\t\n",
    "\n",
    "### Instructor: Farhad Pourkamali \n",
    "\n",
    "[![Open In Colab](https://colab.research.google.com/assets/colab-badge.svg)](https://colab.research.google.com/github/farhad-pourkamali/MATH6388Online/blob/main/Week4.ipynb)\n",
    "\n"
   ]
  },
  {
   "cell_type": "markdown",
   "id": "65902c5d",
   "metadata": {},
   "source": [
    "### Linear model for regression\n",
    "<hr style=\"border:2px solid gray\">\n",
    "\n",
    "* Given the training data set $\\mathcal{D}=\\{(\\mathbf{x}_n,y_n)\\}_{n=1}^N$ and a data point $\\mathbf{x}\\in\\mathbb{R}^D$, the linear regression model takes the form\n",
    "\n",
    "$$f(\\mathbf{x};w_0,\\mathbf{w})=w_0+w_1x_1+w_2x_2+\\ldots+w_Dx_D=w_0+\\mathbf{w}^T\\mathbf{x}$$\n",
    "    \n",
    "* $\\mathbf{w}\\in\\mathbb{R}^D$: weights or regression coefficients, $w_0$: intercept or bias term\n",
    "\n",
    "* A more compact representation by defining $\\mathbf{x}=[\\color{red}{x_0=1},x_1,\\ldots,x_D]$ and $\\mathbf{w}=[w_0,w_1,\\ldots,w_D]$ in $\\mathbb{R}^{D+1}$\n",
    "\n",
    "$$f(\\mathbf{x};\\mathbf{w})=\\mathbf{w}^T\\mathbf{x}=\\langle \\mathbf{w}, \\mathbf{x}\\rangle$$"
   ]
  },
  {
   "cell_type": "markdown",
   "id": "a41e1863",
   "metadata": {},
   "source": [
    "### Building loss function with the likelihood approach\n",
    "\n",
    "<hr style=\"border:2px solid gray\">\n",
    "\n",
    "* Let us assume the output distribution is Gaussian or normal with the mean value of $f(\\mathbf{x};\\mathbf{w})$ and fixed variance $\\sigma^2$\n",
    "\n",
    "$$p(y|\\mathbf{x},\\mathbf{w})=\\mathcal{N}\\big(y|f(\\mathbf{x};\\mathbf{w}), \\sigma^2\\big)=\\frac{1}{\\sqrt{2\\pi\\sigma^2}}\\exp\\big(-\\frac{1}{2\\sigma^2}(y-f(\\mathbf{x};\\mathbf{w}))^2\\big)$$\n",
    "\n",
    "* Thus, we can find the Negative Log Likelihood (NLL) function\n",
    "\n",
    "$$\\begin{align} NLL(\\mathbf{w})=& -\\sum_{n=1}^N\\log p(y_n|\\mathbf{x}_n,\\mathbf{w})=-\\sum_{n=1}^N\\Big[\\log\\big(\\frac{1}{\\sqrt{2\\pi\\sigma^2}}\\big) + \\log\\big(\\exp(\\ldots)\\big)\\Big]\\\\=&\\frac{N}{2}\\log(2\\pi\\sigma^2) + \\frac{1}{\\sigma^2}{\\frac{1}{2}}\\sum_{n=1}^N\\big(y_n-f(\\mathbf{x}_n;\\mathbf{w})\\big)^2\\end{align}$$\n",
    "\n"
   ]
  },
  {
   "cell_type": "markdown",
   "id": "6ad1bc5d",
   "metadata": {},
   "source": [
    "### Loss function for linear regression\n",
    "<hr style=\"border:2px solid gray\">\n",
    "\n",
    "* The NLL is equal (up to irrelevant constants) to the residual sum of squares (RSS)\n",
    "\n",
    "$$\\text{RSS}(\\mathbf{w})=\\frac{1}{2}\\sum_{n=1}^N\\big(y_n-\\langle \\mathbf{w},\\mathbf{x}_n\\rangle\\big)^2=\\frac{1}{2}\\|\\mathbf{y}-\\mathbf{X}\\mathbf{w}\\|_2^2$$\n",
    "\n",
    "where we have\n",
    "\n",
    "$$\\mathbf{y}=\\begin{bmatrix}y_1\\\\y_2\\\\ \\vdots\\\\y_N\\end{bmatrix}\\in\\mathbb{R}^N, \\;\\mathbf{X}=\\begin{bmatrix}\\rule[.5ex]{1em}{0.4pt}\\mathbf{x}_1^T \\rule[.5ex]{1em}{0.4pt}\\\\ \\vdots\\\\\\rule[.5ex]{1em}{0.4pt}\\mathbf{x}_N^T \\rule[.5ex]{1em}{0.4pt}\\end{bmatrix}\\in\\mathbb{R}^{N\\times (D+1)}, \\mathbf{w}=\\begin{bmatrix}\n",
    "w_0\\\\w_1\\\\ \\vdots \\\\w_{D}\\end{bmatrix}\\in\\mathbb{R}^{D+1}$$\n",
    "\n",
    "* Optimization problem for model fitting\n",
    "\n",
    "$$\\underset{\\mathbf{w}\\in\\mathbb{R}^{D+1}}{\\operatorname{argmin}} \\text{RSS}(\\mathbf{w})$$\n",
    "\n",
    "\n",
    "* The big picture\n",
    "\n",
    "<img src=\"https://github.com/farhad-pourkamali/MATH6388/blob/main/images/ml_general.png?raw=true\\\" width=650>\n",
    "\n",
    "\n",
    "* The RSS loss function is fundamentally derived under the assumption of homoscedastic noise, meaning that the variance of the noise is uniform across the input space. \n",
    "    * This uniformity implies that the error distribution remains constant, regardless of the specific input values. \n",
    "* However, in many real-world scenarios, the noise can be heteroscedastic, meaning it varies with different inputs. When the noise is input-dependent, using the RSS loss function becomes suboptimal, as it fails to account for the varying levels of uncertainty associated with different inputs. \n"
   ]
  },
  {
   "cell_type": "markdown",
   "id": "0ec45f67",
   "metadata": {},
   "source": [
    "### Gradient\n",
    "<hr style=\"border:2px solid gray\">\n",
    "\n",
    "* Extend the notion of derivatives to handle vector-argument functions\n",
    "    + Given $f:\\mathbb{R}^n\\mapsto \\mathbb{R}$, gradient is defined as \n",
    "    \n",
    "    $$\\nabla f=\\begin{bmatrix}\\frac{\\partial f}{\\partial x_1}\\\\ \\vdots\\\\ \\frac{\\partial f}{\\partial x_n} \\end{bmatrix}$$\n",
    "    \n",
    "* Example: find $\\nabla f$ where $f(\\mathbf{x})=\\mathbf{x}^T\\mathbf{x}=\\|\\mathbf{x}\\|_2^2$ and $\\mathbf{x}=[x_1,\\ldots,x_n]$\n"
   ]
  },
  {
   "cell_type": "markdown",
   "id": "339039f9",
   "metadata": {},
   "source": [
    "* Two useful identities (assume $\\mathbf{a}$ and $\\mathbf{A}$ are fixed) -- easy to prove by expanding out the terms and applying scalar calculus\n",
    "\n",
    "\n",
    "$$\\nabla(\\mathbf{a}^T\\mathbf{x})=\\mathbf{a},\\;\\; \\nabla(\\mathbf{x}^T\\mathbf{A}\\mathbf{x})=(\\mathbf{A}+\\mathbf{A}^T)\\mathbf{x}$$"
   ]
  },
  {
   "cell_type": "markdown",
   "id": "35ae2d5e",
   "metadata": {},
   "source": [
    "### Gradient of RSS\n",
    "<hr style=\"border:2px solid gray\">\n",
    "\n",
    "\n",
    "* Let us revisit the loss function for linear regression\n",
    "\n",
    "$$\\begin{align}\\text{RSS}(\\mathbf{w})=& \\frac{1}{2}\\|\\mathbf{X}\\mathbf{w}-\\mathbf{y}\\|_2^2=\\frac{1}{2}(\\mathbf{X}\\mathbf{w}-\\mathbf{y})^T(\\mathbf{X}\\mathbf{w}-\\mathbf{y})\\\\\n",
    "=&\\frac{1}{2}(\\mathbf{w}^T\\mathbf{X}^T-\\mathbf{y}^T)(\\mathbf{X}\\mathbf{w}-\\mathbf{y})\\\\=&\\frac{1}{2}(\\mathbf{w}^T\\mathbf{X}^T\\mathbf{X}\\mathbf{w}-2\\langle\\mathbf{X}^T\\mathbf{y},\\mathbf{w}\\rangle+\\mathbf{y}^T\\mathbf{y})\\end{align}$$\n",
    "\n",
    "* Hence \n",
    "\n",
    "$$\\nabla \\text{RSS}(\\mathbf{w})=\\frac{1}{2}(2\\mathbf{X}^T\\mathbf{X}\\mathbf{w}-2\\mathbf{X}^T\\mathbf{y})=\\mathbf{X}^T(\\mathbf{X}\\mathbf{w}-\\mathbf{y})$$"
   ]
  },
  {
   "cell_type": "markdown",
   "id": "a76e97a3",
   "metadata": {},
   "source": [
    "### Ordinary least squares  (OLS)\n",
    "<hr style=\"border:2px solid gray\">\n",
    "\n",
    "\n",
    "* Setting the gradient to zero gives \n",
    "\n",
    "$$\\begin{align}\\mathbf{X}^T\\mathbf{X}\\mathbf{w}=\\mathbf{X}^T\\mathbf{y}\\\\\n",
    "\\hat{\\mathbf{w}}=(\\mathbf{X}^T\\mathbf{X})^{-1}\\mathbf{X}^T\\mathbf{y}\\end{align}$$\n",
    "\n",
    "The quantity $\\mathbf{X}^\\dagger=(\\mathbf{X}^T\\mathbf{X})^{-1}\\mathbf{X}^T$ is the (left) pseudo inverse of the (non-square) matrix $\\mathbf{X}$\n",
    "\n",
    "* If $\\mathbf{X}$ is full rank (so the columns of $\\mathbf{X}$ are linearly independent), then we have a unique global minimum\n",
    "\n",
    "* Algorithmic issues\n",
    "    * We should not compute the inverse of $\\mathbf{X}^T\\mathbf{X}$ due to numerical reasons (it may be ill-conditioned or singular)\n",
    "\n",
    "    * Besides, the computational complexity of inverting such a matrix is about $O(D^3)$\n",
    "        + Double the number of features, computational cost will be increased by a factor of 8\n",
    "    \n",
    "    * For large-scale problems, it may be impossible to even store $\\mathbf{X}$ in the main memory\n",
    "    \n",
    "* Let's explore how to use the `LinearRegression` class from scikit-learn, the leading machine learning library for tasks outside of deep learning.\n",
    "    * https://scikit-learn.org/stable/modules/generated/sklearn.linear_model.LinearRegression.html\n",
    "    \n",
    "    * The `LinearRegression` class defines the structure and methods for creating linear regression models.\n",
    "    *  In code, you use `model = LinearRegression()` to create a new, blank linear regression model object.\n",
    "    * Methods are actions the object can perform. The `fit` method is how you feed the model your data so it can learn the relationship between variables.\n",
    "    * After fitting the model, you get attributes like `model.coef_` (the coefficients of your linear equation) and `model.intercept_`, which define the learned relationship."
   ]
  },
  {
   "cell_type": "code",
   "execution_count": 1,
   "id": "a661e5b3",
   "metadata": {},
   "outputs": [
    {
     "data": {
      "text/html": [
       "<div>\n",
       "<style scoped>\n",
       "    .dataframe tbody tr th:only-of-type {\n",
       "        vertical-align: middle;\n",
       "    }\n",
       "\n",
       "    .dataframe tbody tr th {\n",
       "        vertical-align: top;\n",
       "    }\n",
       "\n",
       "    .dataframe thead th {\n",
       "        text-align: right;\n",
       "    }\n",
       "</style>\n",
       "<table border=\"1\" class=\"dataframe\">\n",
       "  <thead>\n",
       "    <tr style=\"text-align: right;\">\n",
       "      <th></th>\n",
       "      <th>Country</th>\n",
       "      <th>GDP per capita (USD)</th>\n",
       "      <th>Life satisfaction</th>\n",
       "    </tr>\n",
       "  </thead>\n",
       "  <tbody>\n",
       "    <tr>\n",
       "      <th>0</th>\n",
       "      <td>Russia</td>\n",
       "      <td>26456.387938</td>\n",
       "      <td>5.8</td>\n",
       "    </tr>\n",
       "    <tr>\n",
       "      <th>1</th>\n",
       "      <td>Greece</td>\n",
       "      <td>27287.083401</td>\n",
       "      <td>5.4</td>\n",
       "    </tr>\n",
       "    <tr>\n",
       "      <th>2</th>\n",
       "      <td>Turkey</td>\n",
       "      <td>28384.987785</td>\n",
       "      <td>5.5</td>\n",
       "    </tr>\n",
       "    <tr>\n",
       "      <th>3</th>\n",
       "      <td>Latvia</td>\n",
       "      <td>29932.493910</td>\n",
       "      <td>5.9</td>\n",
       "    </tr>\n",
       "    <tr>\n",
       "      <th>4</th>\n",
       "      <td>Hungary</td>\n",
       "      <td>31007.768407</td>\n",
       "      <td>5.6</td>\n",
       "    </tr>\n",
       "  </tbody>\n",
       "</table>\n",
       "</div>"
      ],
      "text/plain": [
       "   Country  GDP per capita (USD)  Life satisfaction\n",
       "0   Russia          26456.387938                5.8\n",
       "1   Greece          27287.083401                5.4\n",
       "2   Turkey          28384.987785                5.5\n",
       "3   Latvia          29932.493910                5.9\n",
       "4  Hungary          31007.768407                5.6"
      ]
     },
     "execution_count": 1,
     "metadata": {},
     "output_type": "execute_result"
    }
   ],
   "source": [
    "# GDP data \n",
    "import numpy as np\n",
    "import pandas as pd\n",
    "import matplotlib.pyplot as plt \n",
    "\n",
    "df = pd.read_csv(\"https://github.com/ageron/data/raw/main/lifesat/lifesat.csv\")\n",
    "                 \n",
    "df.head()"
   ]
  },
  {
   "cell_type": "code",
   "execution_count": 2,
   "id": "315f7b76",
   "metadata": {},
   "outputs": [
    {
     "name": "stdout",
     "output_type": "stream",
     "text": [
      "(27,) (27,)\n"
     ]
    }
   ],
   "source": [
    "X = df['GDP per capita (USD)'].to_numpy()\n",
    "y = df['Life satisfaction'].to_numpy()\n",
    "\n",
    "print(X.shape, y.shape)"
   ]
  },
  {
   "cell_type": "code",
   "execution_count": 3,
   "id": "41e44c44",
   "metadata": {},
   "outputs": [
    {
     "data": {
      "text/plain": [
       "array([[26456.38793813],\n",
       "       [27287.08340093],\n",
       "       [28384.98778463],\n",
       "       [29932.49391006],\n",
       "       [31007.76840654],\n",
       "       [32181.15453723],\n",
       "       [32238.15725928],\n",
       "       [35638.42135118],\n",
       "       [36215.44759073],\n",
       "       [36547.73895598],\n",
       "       [36732.03474403],\n",
       "       [38341.30757041],\n",
       "       [38992.14838075],\n",
       "       [41627.12926943],\n",
       "       [42025.61737306],\n",
       "       [42404.39373816],\n",
       "       [45856.62562648],\n",
       "       [47260.80045844],\n",
       "       [48210.03311134],\n",
       "       [48697.83702825],\n",
       "       [50683.32350972],\n",
       "       [50922.35802345],\n",
       "       [51935.60386182],\n",
       "       [52279.72885136],\n",
       "       [54209.56383573],\n",
       "       [55938.2128086 ],\n",
       "       [60235.7284917 ]])"
      ]
     },
     "execution_count": 3,
     "metadata": {},
     "output_type": "execute_result"
    }
   ],
   "source": [
    "X.reshape(-1,1)"
   ]
  },
  {
   "cell_type": "code",
   "execution_count": 4,
   "id": "a3334331",
   "metadata": {},
   "outputs": [
    {
     "data": {
      "text/plain": [
       "(27, 2)"
      ]
     },
     "execution_count": 4,
     "metadata": {},
     "output_type": "execute_result"
    }
   ],
   "source": [
    "# add the column of all 1's \n",
    "\n",
    "def add_column(X):\n",
    "    '''\n",
    "    add the column of all 1's \n",
    "    '''\n",
    "    return np.concatenate(( np.ones((X.shape[0],1)), X.reshape(-1,1)), axis=1)\n",
    "\n",
    "Xcon = add_column(X)\n",
    "\n",
    "Xcon.shape\n"
   ]
  },
  {
   "cell_type": "code",
   "execution_count": 5,
   "id": "3008df4c",
   "metadata": {},
   "outputs": [
    {
     "data": {
      "text/plain": [
       "array([[1.00000000e+00, 2.64563879e+04],\n",
       "       [1.00000000e+00, 2.72870834e+04],\n",
       "       [1.00000000e+00, 2.83849878e+04],\n",
       "       [1.00000000e+00, 2.99324939e+04],\n",
       "       [1.00000000e+00, 3.10077684e+04],\n",
       "       [1.00000000e+00, 3.21811545e+04],\n",
       "       [1.00000000e+00, 3.22381573e+04],\n",
       "       [1.00000000e+00, 3.56384214e+04],\n",
       "       [1.00000000e+00, 3.62154476e+04],\n",
       "       [1.00000000e+00, 3.65477390e+04],\n",
       "       [1.00000000e+00, 3.67320347e+04],\n",
       "       [1.00000000e+00, 3.83413076e+04],\n",
       "       [1.00000000e+00, 3.89921484e+04],\n",
       "       [1.00000000e+00, 4.16271293e+04],\n",
       "       [1.00000000e+00, 4.20256174e+04],\n",
       "       [1.00000000e+00, 4.24043937e+04],\n",
       "       [1.00000000e+00, 4.58566256e+04],\n",
       "       [1.00000000e+00, 4.72608005e+04],\n",
       "       [1.00000000e+00, 4.82100331e+04],\n",
       "       [1.00000000e+00, 4.86978370e+04],\n",
       "       [1.00000000e+00, 5.06833235e+04],\n",
       "       [1.00000000e+00, 5.09223580e+04],\n",
       "       [1.00000000e+00, 5.19356039e+04],\n",
       "       [1.00000000e+00, 5.22797289e+04],\n",
       "       [1.00000000e+00, 5.42095638e+04],\n",
       "       [1.00000000e+00, 5.59382128e+04],\n",
       "       [1.00000000e+00, 6.02357285e+04]])"
      ]
     },
     "execution_count": 5,
     "metadata": {},
     "output_type": "execute_result"
    }
   ],
   "source": [
    "Xcon"
   ]
  },
  {
   "cell_type": "code",
   "execution_count": 6,
   "id": "c31dd239",
   "metadata": {},
   "outputs": [
    {
     "name": "stdout",
     "output_type": "stream",
     "text": [
      "[3.74904943e+00 6.77889970e-05]\n"
     ]
    }
   ],
   "source": [
    "# solve the problem \n",
    "\n",
    "a = np.matmul(np.transpose(Xcon), Xcon)\n",
    "\n",
    "b = np.matmul(np.transpose(Xcon), y)\n",
    "\n",
    "theta = np.linalg.lstsq(a, b, rcond=None)[0] # Cut-off ratio for small singular values\n",
    "\n",
    "print(theta)"
   ]
  },
  {
   "cell_type": "code",
   "execution_count": 7,
   "id": "4d407854",
   "metadata": {},
   "outputs": [
    {
     "data": {
      "image/png": "[encoded data removed]",
      "text/plain": [
       "<Figure size 600x300 with 1 Axes>"
      ]
     },
     "metadata": {},
     "output_type": "display_data"
    }
   ],
   "source": [
    "# plot the prediction model f\n",
    "\n",
    "def f(X, theta):\n",
    "    return np.matmul(X, theta)\n",
    "\n",
    "plt.rcParams.update({'font.size': 12, \"figure.figsize\": (6,3)})\n",
    "plt.scatter(X, y, s=20, label='training data')\n",
    "\n",
    "X_test = np.array([25000, 60000])\n",
    "y_test = f(add_column(X_test), theta)\n",
    "plt.plot(X_test, y_test, 'r--', label='prediction')\n",
    "\n",
    "plt.legend()\n",
    "plt.xlabel('GDP')\n",
    "plt.ylabel('life satisfaction')\n",
    "plt.show()"
   ]
  },
  {
   "cell_type": "code",
   "execution_count": 8,
   "id": "fa774b0e",
   "metadata": {},
   "outputs": [
    {
     "name": "stdout",
     "output_type": "stream",
     "text": [
      "3.7490494273769075 [6.77889969e-05]\n"
     ]
    }
   ],
   "source": [
    "# Revisit the GDP data \n",
    "\n",
    "from sklearn.linear_model import LinearRegression\n",
    "\n",
    "reg = LinearRegression()\n",
    "\n",
    "reg.fit(X.reshape(-1,1), y) # X should be a 2D array \n",
    "\n",
    "print(reg.intercept_, reg.coef_)"
   ]
  },
  {
   "cell_type": "code",
   "execution_count": 9,
   "id": "cbe4809c",
   "metadata": {},
   "outputs": [
    {
     "name": "stdout",
     "output_type": "stream",
     "text": [
      "5.542501428448674 [2.28986761]\n"
     ]
    }
   ],
   "source": [
    "# Revisit the GDP data by preprocessing input features \n",
    "\n",
    "from sklearn.preprocessing import MinMaxScaler\n",
    "\n",
    "minmax = MinMaxScaler()\n",
    "\n",
    "X_minmax = minmax.fit_transform(X.reshape(-1,1))\n",
    "\n",
    "reg = LinearRegression()\n",
    "\n",
    "reg.fit(X_minmax, y) # X should be a 2D array \n",
    "\n",
    "print(reg.intercept_, reg.coef_)"
   ]
  },
  {
   "cell_type": "code",
   "execution_count": 10,
   "id": "8fa31075",
   "metadata": {},
   "outputs": [
    {
     "data": {
      "image/png": "[encoded data removed]",
      "text/plain": [
       "<Figure size 600x300 with 1 Axes>"
      ]
     },
     "metadata": {},
     "output_type": "display_data"
    }
   ],
   "source": [
    "plt.rcParams.update({'font.size': 12, \"figure.figsize\": (6,3)})\n",
    "plt.scatter(X_minmax, y, s=20, label='training data')\n",
    "\n",
    "X_test = np.array([25000, 60000])\n",
    "X_test_minmax = minmax.transform(X_test.reshape(-1,1))\n",
    "y_test = reg.predict(X_test_minmax)\n",
    "plt.plot(X_test_minmax, y_test, 'r--', label='prediction')\n",
    "\n",
    "plt.legend()\n",
    "plt.xlabel('GDP')\n",
    "plt.ylabel('life satisfaction')\n",
    "plt.show()"
   ]
  }
 ],
 "metadata": {
  "kernelspec": {
   "display_name": "Python 3 (ipykernel)",
   "language": "python",
   "name": "python3"
  },
  "language_info": {
   "codemirror_mode": {
    "name": "ipython",
    "version": 3
   },
   "file_extension": ".py",
   "mimetype": "text/x-python",
   "name": "python",
   "nbconvert_exporter": "python",
   "pygments_lexer": "ipython3",
   "version": "3.10.9"
  }
 },
 "nbformat": 4,
 "nbformat_minor": 5
}
