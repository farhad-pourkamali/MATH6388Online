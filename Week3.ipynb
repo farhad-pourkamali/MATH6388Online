{
 "cells": [
  {
   "cell_type": "markdown",
   "id": "635306fe",
   "metadata": {},
   "source": [
    "## Statistical and Machine Learning, Fall 2024\n",
    "\n",
    "### Week 3: Python Programming for Machine Learning, Part 2: Tensor, Gradient, and Automatic Differentiation\t\t\n",
    "\n",
    "### Instructor: Farhad Pourkamali \n",
    "\n",
    "[![Open In Colab](https://colab.research.google.com/assets/colab-badge.svg)](https://colab.research.google.com/github/farhad-pourkamali/MATH6388Online/blob/main/Week3.ipynb)\n",
    "\n"
   ]
  },
  {
   "cell_type": "markdown",
   "id": "9c52c048",
   "metadata": {},
   "source": [
    "### Tensors\n",
    "<hr style=\"border:2px solid gray\">\n",
    "\n",
    "* Understanding and implementing machine learning methods require mathematical concepts, such as \n",
    "    * tensors\n",
    "    * tensor operations \n",
    "    * differentiation: finding the derivative, or rate of change, of a function\n",
    "\n",
    "* Tensors are a generalization of vectors and matrices to an arbitrary number of dimensions\n",
    "\n",
    "    * In the context of tensors, a dimension is often called an \"axis\"\n",
    "    * The number of axes of a tensor is called its \"rank\" \n",
    "        + Scalars: rank-0 tensors \n",
    "        + Vectors: rank-1 tensors \n",
    "        + Matrices: rank-2 tensors \n",
    "        + Higher-rank tensors are very useful for representing complex data sets\n",
    "        \n",
    " <img src=\"https://github.com/farhad-pourkamali/MATH6388/blob/main/images/tensor.png?raw=true\" width=380>\n",
    "        \n",
    "* Four things you need to know about tensors\n",
    "    * Type $\\longrightarrow$ type\n",
    "        + The type() function is used to determine the type of an object \n",
    "    * Number of axes or rank $\\longrightarrow$ ndim\n",
    "    * Shape $\\longrightarrow$ shape \n",
    "    * Data type $\\longrightarrow$ dtype\n",
    "\n",
    "* NumPy\n",
    "    + Support for multi-dimensional arrays known as \"ndarray\" (vectors, matrices, etc.)\n",
    "    + A large collection of mathematical functions to operate on these arrays"
   ]
  },
  {
   "cell_type": "code",
   "execution_count": 1,
   "id": "190bd0fd",
   "metadata": {},
   "outputs": [
    {
     "data": {
      "text/plain": [
       "array([1, 2, 4])"
      ]
     },
     "execution_count": 1,
     "metadata": {},
     "output_type": "execute_result"
    }
   ],
   "source": [
    "import numpy as np \n",
    "\n",
    "x = np.array([1, 2, 4])\n",
    "\n",
    "x"
   ]
  },
  {
   "cell_type": "code",
   "execution_count": 2,
   "id": "1b420036",
   "metadata": {},
   "outputs": [
    {
     "name": "stdout",
     "output_type": "stream",
     "text": [
      "<class 'numpy.ndarray'>\n"
     ]
    }
   ],
   "source": [
    "print(type(x))"
   ]
  },
  {
   "cell_type": "code",
   "execution_count": 3,
   "id": "78c7f26a",
   "metadata": {},
   "outputs": [
    {
     "data": {
      "text/plain": [
       "1"
      ]
     },
     "execution_count": 3,
     "metadata": {},
     "output_type": "execute_result"
    }
   ],
   "source": [
    "x.ndim"
   ]
  },
  {
   "cell_type": "code",
   "execution_count": 4,
   "id": "05f3cbd5",
   "metadata": {},
   "outputs": [
    {
     "data": {
      "text/plain": [
       "(3,)"
      ]
     },
     "execution_count": 4,
     "metadata": {},
     "output_type": "execute_result"
    }
   ],
   "source": [
    "x.shape"
   ]
  },
  {
   "cell_type": "code",
   "execution_count": 5,
   "id": "6d156109",
   "metadata": {},
   "outputs": [
    {
     "data": {
      "text/plain": [
       "dtype('int64')"
      ]
     },
     "execution_count": 5,
     "metadata": {},
     "output_type": "execute_result"
    }
   ],
   "source": [
    "x.dtype"
   ]
  },
  {
   "cell_type": "code",
   "execution_count": 6,
   "id": "f289364b",
   "metadata": {},
   "outputs": [
    {
     "data": {
      "text/plain": [
       "array([[1, 2, 4],\n",
       "       [3, 6, 5],\n",
       "       [2, 1, 3]])"
      ]
     },
     "execution_count": 6,
     "metadata": {},
     "output_type": "execute_result"
    }
   ],
   "source": [
    "y = np.array([[1, 2, 4],\n",
    "              [3, 6, 5],\n",
    "              [2, 1, 3]])\n",
    "\n",
    "y"
   ]
  },
  {
   "cell_type": "code",
   "execution_count": 7,
   "id": "66e2777c",
   "metadata": {},
   "outputs": [
    {
     "data": {
      "text/plain": [
       "array([1, 2, 4])"
      ]
     },
     "execution_count": 7,
     "metadata": {},
     "output_type": "execute_result"
    }
   ],
   "source": [
    "y[0]"
   ]
  },
  {
   "cell_type": "code",
   "execution_count": 8,
   "id": "8e94af2a",
   "metadata": {},
   "outputs": [
    {
     "data": {
      "text/plain": [
       "array([1, 3, 2])"
      ]
     },
     "execution_count": 8,
     "metadata": {},
     "output_type": "execute_result"
    }
   ],
   "source": [
    "y[:,0]"
   ]
  },
  {
   "cell_type": "code",
   "execution_count": 9,
   "id": "a615a7a9",
   "metadata": {},
   "outputs": [
    {
     "name": "stdout",
     "output_type": "stream",
     "text": [
      "2 (3, 3) int64\n"
     ]
    }
   ],
   "source": [
    "print(y.ndim, y.shape, y.dtype)"
   ]
  },
  {
   "cell_type": "code",
   "execution_count": 10,
   "id": "573a7bf1",
   "metadata": {},
   "outputs": [
    {
     "data": {
      "text/plain": [
       "array([ 6,  9, 12])"
      ]
     },
     "execution_count": 10,
     "metadata": {},
     "output_type": "execute_result"
    }
   ],
   "source": [
    "# Why is indexing axes important?\n",
    "y.sum(axis=0)"
   ]
  },
  {
   "cell_type": "code",
   "execution_count": 11,
   "id": "101257cb",
   "metadata": {},
   "outputs": [
    {
     "data": {
      "text/plain": [
       "array([ 7, 14,  6])"
      ]
     },
     "execution_count": 11,
     "metadata": {},
     "output_type": "execute_result"
    }
   ],
   "source": [
    "y.sum(axis=1)"
   ]
  },
  {
   "cell_type": "code",
   "execution_count": 12,
   "id": "8cbbe3c4",
   "metadata": {},
   "outputs": [
    {
     "data": {
      "text/plain": [
       "array([[ 7],\n",
       "       [14],\n",
       "       [ 6]])"
      ]
     },
     "execution_count": 12,
     "metadata": {},
     "output_type": "execute_result"
    }
   ],
   "source": [
    "# Do you notice a difference? \n",
    "\n",
    "y.sum(axis=1, keepdims=True)\n"
   ]
  },
  {
   "cell_type": "code",
   "execution_count": 13,
   "id": "476173b0",
   "metadata": {},
   "outputs": [
    {
     "data": {
      "text/plain": [
       "(3, 1)"
      ]
     },
     "execution_count": 13,
     "metadata": {},
     "output_type": "execute_result"
    }
   ],
   "source": [
    "y.sum(axis=1, keepdims=True).shape"
   ]
  },
  {
   "cell_type": "code",
   "execution_count": 14,
   "id": "b66b35bd",
   "metadata": {},
   "outputs": [
    {
     "data": {
      "text/plain": [
       "array([[6, 5],\n",
       "       [1, 3]])"
      ]
     },
     "execution_count": 14,
     "metadata": {},
     "output_type": "execute_result"
    }
   ],
   "source": [
    "# tensor slicing\n",
    "\n",
    "y[1:,1:]"
   ]
  },
  {
   "cell_type": "code",
   "execution_count": 15,
   "id": "7d52d27c",
   "metadata": {},
   "outputs": [
    {
     "data": {
      "text/plain": [
       "array([[6, 5],\n",
       "       [1, 3]])"
      ]
     },
     "execution_count": 15,
     "metadata": {},
     "output_type": "execute_result"
    }
   ],
   "source": [
    "# negative indices indicate positions relative to the end of the current axis\n",
    "\n",
    "y[-2:,-2:]"
   ]
  },
  {
   "cell_type": "markdown",
   "id": "d2d8adc1",
   "metadata": {},
   "source": [
    "### Tensor operations \n",
    "<hr style=\"border:2px solid gray\">\n",
    "\n",
    "* When dealing with NumPy arrays, linear algebra operations, such as matrix-vector multiplication, dot products, and matrix factorizations, are available as well-optimized built-in NumPy functions\n",
    "\n",
    "    * One of the reasons for NumPy's speed is its utilization of Basic Linear Algebra Subprograms (BLAS) \n",
    "    \n",
    "    * These routines are typically implemented in low-level languages like Fortran or C\n",
    "    \n",
    "    * Highly optimized to take advantage of the underlying hardware's capabilities, such as vectorization and parallelism"
   ]
  },
  {
   "cell_type": "code",
   "execution_count": 16,
   "id": "d3143f4d",
   "metadata": {},
   "outputs": [
    {
     "name": "stdout",
     "output_type": "stream",
     "text": [
      "NumPy takes 0.0008 s\n"
     ]
    }
   ],
   "source": [
    "import numpy as np \n",
    "\n",
    "x = np.random.random((1000000,))\n",
    "y = np.random.random((1000000,))\n",
    "\n",
    "# time the difference between NumPy's np.dot and our implementation \n",
    "\n",
    "import time \n",
    "\n",
    "t0 = time.time()\n",
    "\n",
    "z = np.dot(x, y) # inner product of vectors\n",
    "\n",
    "t_numpy = time.time() - t0\n",
    "\n",
    "print(\"NumPy takes {:0.4f} s\".format(t_numpy))"
   ]
  },
  {
   "cell_type": "code",
   "execution_count": 17,
   "id": "556c7d84",
   "metadata": {},
   "outputs": [
    {
     "name": "stdout",
     "output_type": "stream",
     "text": [
      "Our implementation takes 0.1579 s, which is 187.7129 slower\n",
      "Difference: 8.731149137020111e-11\n"
     ]
    }
   ],
   "source": [
    "def our_dot_product(x, y):\n",
    "    '''\n",
    "    Accepts two 1D arrays and returns the inner product\n",
    "    test\n",
    "    teste2 \n",
    "    '''\n",
    "    # used as a debugging aid to check whether a given condition is True\n",
    "    assert len(x.shape) == 1 \n",
    "    assert len(y.shape) == 1\n",
    "    assert x.shape[0] == y.shape[0]\n",
    "    \n",
    "    z = 0.\n",
    "    \n",
    "    for i in range(x.shape[0]):\n",
    "        z += x[i] * y[i]\n",
    "        \n",
    "    return z \n",
    "\n",
    "t0 = time.time()\n",
    "\n",
    "z_our = our_dot_product(x, y)\n",
    "\n",
    "t_our = time.time() - t0\n",
    "\n",
    "print(\"Our implementation takes {:0.4f} s, which is {:0.4f} slower\".format(t_our, t_our/t_numpy))\n",
    "\n",
    "print(\"Difference: \" + str(z_our - z))\n"
   ]
  },
  {
   "cell_type": "code",
   "execution_count": 18,
   "id": "d3d0da19",
   "metadata": {},
   "outputs": [
    {
     "name": "stdout",
     "output_type": "stream",
     "text": [
      "[[1. 2. 3.]\n",
      " [4. 5. 6.]] \n",
      "\n",
      " [[2. 3.]\n",
      " [1. 2.]\n",
      " [4. 2.]]\n"
     ]
    }
   ],
   "source": [
    "# Next, we use our implementation of inner product to perform matrix-matrix multiplication \n",
    "\n",
    "X = np.array([[1.,2,3],\n",
    "              [4,5,6]])\n",
    "\n",
    "Y = np.array([[2., 3],\n",
    "              [1,2],\n",
    "              [4,2]])\n",
    "\n",
    "print(X, '\\n\\n', Y)"
   ]
  },
  {
   "cell_type": "code",
   "execution_count": 19,
   "id": "1442b50d",
   "metadata": {},
   "outputs": [
    {
     "name": "stdout",
     "output_type": "stream",
     "text": [
      "[[16. 13.]\n",
      " [37. 34.]] \n",
      "\n",
      " [[16. 13.]\n",
      " [37. 34.]] \n",
      "\n",
      " [[16. 13.]\n",
      " [37. 34.]]\n"
     ]
    }
   ],
   "source": [
    "def our_matrix_product(X, Y):\n",
    "    assert len(X.shape) == 2\n",
    "    assert len(Y.shape) == 2\n",
    "    assert X.shape[1] == Y.shape[0]\n",
    "    \n",
    "    Z = np.zeros((X.shape[0], Y.shape[1]))\n",
    "    \n",
    "    for i in range(X.shape[0]):\n",
    "        for j in range(Y.shape[1]):\n",
    "            row_X = X[i,:]\n",
    "            column_Y = Y[:,j]\n",
    "            Z[i, j] = our_dot_product(row_X, column_Y)\n",
    "            \n",
    "    return Z \n",
    "\n",
    "Z_our = our_matrix_product(X, Y)\n",
    "\n",
    "Z_numpy = np.dot(X, Y)\n",
    "\n",
    "Z_numpy2 = np.matmul(X, Y) # Another way of performing matrix-matrix multiplication  \n",
    "\n",
    "print(Z_our, '\\n\\n', Z_numpy, '\\n\\n', Z_numpy2)\n"
   ]
  },
  {
   "cell_type": "markdown",
   "id": "a92c10d1",
   "metadata": {},
   "source": [
    "### Higher-rank tensors \n",
    "<hr style=\"border:2px solid gray\">\n",
    "\n",
    "* The following code cell utilizes a dataset available through TensorFlow/Keras, a prominent deep learning library. This serves as an exercise in the installation of external libraries not included within the Anaconda distribution. While the installation process is generally straightforward for Linux and Windows users (https://www.tensorflow.org/), individuals utilizing a MacBook with Apple Silicon may find the following video tutorial helpful in navigating the installation process (https://youtu.be/xEBrzVYsuBc).\n",
    "\n",
    "\n"
   ]
  },
  {
   "cell_type": "code",
   "execution_count": 20,
   "id": "b162df6f",
   "metadata": {},
   "outputs": [],
   "source": [
    "from tensorflow.keras.datasets import mnist \n",
    "\n",
    "(train_images, train_labels), (test_images, test_labels) = mnist.load_data()"
   ]
  },
  {
   "cell_type": "code",
   "execution_count": 21,
   "id": "26f1c58d",
   "metadata": {},
   "outputs": [
    {
     "data": {
      "text/plain": [
       "array([5, 0, 4, ..., 5, 6, 8], dtype=uint8)"
      ]
     },
     "execution_count": 21,
     "metadata": {},
     "output_type": "execute_result"
    }
   ],
   "source": [
    "train_labels"
   ]
  },
  {
   "cell_type": "code",
   "execution_count": 22,
   "id": "e39c8302",
   "metadata": {},
   "outputs": [
    {
     "data": {
      "text/plain": [
       "(60000, 28, 28)"
      ]
     },
     "execution_count": 22,
     "metadata": {},
     "output_type": "execute_result"
    }
   ],
   "source": [
    "train_images.shape"
   ]
  },
  {
   "cell_type": "code",
   "execution_count": 23,
   "id": "e19fe080",
   "metadata": {},
   "outputs": [
    {
     "data": {
      "text/plain": [
       "(10000, 28, 28)"
      ]
     },
     "execution_count": 23,
     "metadata": {},
     "output_type": "execute_result"
    }
   ],
   "source": [
    "test_images.shape"
   ]
  },
  {
   "cell_type": "code",
   "execution_count": 24,
   "id": "b7b01036",
   "metadata": {},
   "outputs": [
    {
     "data": {
      "text/plain": [
       "(28, 28)"
      ]
     },
     "execution_count": 24,
     "metadata": {},
     "output_type": "execute_result"
    }
   ],
   "source": [
    "train_images[0].shape"
   ]
  },
  {
   "cell_type": "code",
   "execution_count": 25,
   "id": "59cd12c0",
   "metadata": {},
   "outputs": [
    {
     "data": {
      "image/png": "[encoded data removed]",
      "text/plain": [
       "<Figure size 640x480 with 1 Axes>"
      ]
     },
     "metadata": {},
     "output_type": "display_data"
    }
   ],
   "source": [
    "import matplotlib.pyplot as plt \n",
    "\n",
    "plt.imshow(train_images[0], cmap='binary')\n",
    "plt.show()"
   ]
  },
  {
   "cell_type": "code",
   "execution_count": 26,
   "id": "755e5a8e",
   "metadata": {},
   "outputs": [
    {
     "data": {
      "text/plain": [
       "(60000, 784)"
      ]
     },
     "execution_count": 26,
     "metadata": {},
     "output_type": "execute_result"
    }
   ],
   "source": [
    "train_images_rank2 = train_images.reshape((60000, 28 * 28))\n",
    "\n",
    "train_images_rank2.shape"
   ]
  },
  {
   "cell_type": "code",
   "execution_count": 27,
   "id": "cfa19eee",
   "metadata": {},
   "outputs": [
    {
     "data": {
      "text/plain": [
       "(128, 784)"
      ]
     },
     "execution_count": 27,
     "metadata": {},
     "output_type": "execute_result"
    }
   ],
   "source": [
    "# Find the n-th batch of 128 data points? \n",
    "\n",
    "n = 0\n",
    "\n",
    "train_images_rank2[128*n : 128*(n+1)].shape"
   ]
  },
  {
   "cell_type": "markdown",
   "id": "c090a4f4",
   "metadata": {},
   "source": [
    "### Automatic differentiation\n",
    "<hr style=\"border:2px solid gray\">\n",
    "\n",
    "* Gradients are a generalization of derivatives to functions that take tensors (multidimensional arrays) as inputs\n",
    "\n",
    "* Example: Consider $\\mathbf{x}=\\begin{bmatrix}x_1 \\\\ x_2\\end{bmatrix}$ and $f(\\mathbf{x})=\\|\\mathbf{x}\\|_2^2=x_1^2+x_2^2$\n",
    "    * Gradient \n",
    "    $$\\nabla f=\\begin{bmatrix}\\frac{\\partial f}{\\partial x_1}\\\\ \\frac{\\partial f}{\\partial x_2}\\end{bmatrix}=\\begin{bmatrix}2x_1 \\\\2x_2\\end{bmatrix}=2\\mathbf{x}$$\n",
    "    \n",
    "* The idea behind automatic differentiation is to allow the computation of gradients without manually specifying the derivative formulas\n",
    "\n",
    "* `tf.GradientTape` is TensorFlow's primary tool for automatic differentiation (autodiff). \n",
    "\n",
    "* \"Tape\" Analogy: Think of it like a recording tape. It records the forward pass of your computations. When you call `tape.gradient()`, it essentially rewinds the tape and calculates the gradients using the chain rule."
   ]
  },
  {
   "cell_type": "code",
   "execution_count": 28,
   "id": "a99f7e87",
   "metadata": {},
   "outputs": [
    {
     "name": "stdout",
     "output_type": "stream",
     "text": [
      "tf.Tensor([2. 8.], shape=(2,), dtype=float32)\n"
     ]
    }
   ],
   "source": [
    "import tensorflow as tf\n",
    "\n",
    "x = tf.Variable([1.0, 4.0])\n",
    "\n",
    "with tf.GradientTape() as tape: # TensorFlow API for automatic differentiation\n",
    "    y = x**2\n",
    "    \n",
    "# Compute gradients\n",
    "dy_dx = tape.gradient(y, x)\n",
    "\n",
    "print(dy_dx)"
   ]
  },
  {
   "cell_type": "markdown",
   "id": "805cbebf",
   "metadata": {},
   "source": [
    "#### Consider a simplified linear regression model as follows \n",
    "\n",
    " <img src=\"https://github.com/farhad-pourkamali/MATH6388/blob/main/images/simplelin.png?raw=true\" width=450>\n",
    "\n",
    "\n",
    "* Our goal is to compute the gradient of the loss function with respect to the model parameters.\n",
    "\n"
   ]
  },
  {
   "cell_type": "code",
   "execution_count": 29,
   "id": "a940c412",
   "metadata": {},
   "outputs": [
    {
     "name": "stdout",
     "output_type": "stream",
     "text": [
      "w: <tf.Variable 'Variable:0' shape=(2, 1) dtype=float32, numpy=\n",
      "array([[0.27182555],\n",
      "       [0.01838541]], dtype=float32)>\n",
      "x: <tf.Variable 'Variable:0' shape=(2, 1) dtype=float32, numpy=\n",
      "array([[0.31179297],\n",
      "       [0.8263413 ]], dtype=float32)>\n",
      "y: tf.Tensor([[0.09994592]], shape=(1, 1), dtype=float32)\n"
     ]
    }
   ],
   "source": [
    "w = tf.Variable(tf.random.uniform((2, 1)))\n",
    "\n",
    "x = tf.Variable(tf.random.uniform((2, 1)))\n",
    "\n",
    "y = tf.matmul(tf.transpose(x), w)\n",
    "\n",
    "print(\"w: \" + str(w) )\n",
    "\n",
    "print(\"x: \" + str(x) )\n",
    "\n",
    "print(\"y: \" + str(y) )\n"
   ]
  },
  {
   "cell_type": "code",
   "execution_count": 30,
   "id": "c38ce202",
   "metadata": {},
   "outputs": [
    {
     "name": "stdout",
     "output_type": "stream",
     "text": [
      "tf.Tensor(\n",
      "[[0.06232487]\n",
      " [0.16517888]], shape=(2, 1), dtype=float32)\n"
     ]
    }
   ],
   "source": [
    "with tf.GradientTape() as tape:\n",
    "    y = tf.matmul(tf.transpose(x), w)\n",
    "    loss = y**2\n",
    "\n",
    "dl_dw = tape.gradient(loss, w)\n",
    "\n",
    "print(dl_dw)"
   ]
  },
  {
   "cell_type": "markdown",
   "id": "4954867d",
   "metadata": {},
   "source": [
    "### Further reading\n",
    "<hr style=\"border:2px solid gray\">\n",
    "\n",
    "* Introduction to gradients and automatic differentiation: https://www.tensorflow.org/guide/autodiff"
   ]
  }
 ],
 "metadata": {
  "kernelspec": {
   "display_name": "Python 3 (ipykernel)",
   "language": "python",
   "name": "python3"
  },
  "language_info": {
   "codemirror_mode": {
    "name": "ipython",
    "version": 3
   },
   "file_extension": ".py",
   "mimetype": "text/x-python",
   "name": "python",
   "nbconvert_exporter": "python",
   "pygments_lexer": "ipython3",
   "version": "3.10.9"
  }
 },
 "nbformat": 4,
 "nbformat_minor": 5
}
