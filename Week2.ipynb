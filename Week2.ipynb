{
 "cells": [
  {
   "cell_type": "markdown",
   "id": "635306fe",
   "metadata": {},
   "source": [
    "## Statistical and Machine Learning, Fall 2024\n",
    "\n",
    "### Week 2: Python Programming for Machine Learning, Part 1: Object-Oriented Programming\t\t\n",
    "\n",
    "### Instructor: Farhad Pourkamali \n",
    "\n",
    "[![Open In Colab](https://colab.research.google.com/assets/colab-badge.svg)](https://colab.research.google.com/github/farhad-pourkamali/MATH6388Online/blob/main/Week2.ipynb)\n",
    "\n"
   ]
  },
  {
   "cell_type": "markdown",
   "id": "c88bd4dd",
   "metadata": {},
   "source": [
    "### Introduction\n",
    "<hr style=\"border:2px solid gray\">\n",
    "\n",
    "* Python is a versatile language that supports two programming approaches: POP and OOP.\n",
    "    * Procedure-Oriented Programming (POP)\n",
    "        * Emphasizes a step-by-step execution of procedures.\n",
    "        * Program is a set of functions that perform specific tasks.\n",
    "        * Data and functions are separate entities.\n",
    "        * Reusability is often limited. \n",
    "        \n",
    "    * Object-Oriented Programming (OOP)\n",
    "        * Emphasizes the organization of code into reusable, self-contained units called `objects`.\n",
    "        * Program is a collection of interacting `objects`.\n",
    "        * Data (known as `attributes`) and functions (known as `methods`) are encapsulated within `objects`.\n",
    "        \n",
    "* Object-Oriented Programming (OOP) Components:\n",
    "    * Class:\n",
    "        * Blueprint or template for creating objects.\n",
    "        * Defines attributes (data) and methods (functions) that objects of the class will have.\n",
    "        * Acts as a user-defined data type.\n",
    "    * Object:\n",
    "        * Instance of a class, created based on the class blueprint.\n",
    "        * Possesses unique attributes and behaviors defined by the class.\n",
    "        * Represents a specific occurrence or entity in the program.\n",
    "        "
   ]
  },
  {
   "cell_type": "markdown",
   "id": "835dcb53",
   "metadata": {},
   "source": [
    "### Data Structures in Python\n",
    "\n",
    "<hr style=\"border:2px solid gray\">\n",
    "\n",
    "* To better understand the underlying idea behind OOP, we start by discussing popular built-in data structures in Python, namely lists, tuples, and dictionaries, and the way that we can define functions.\n",
    "    * In Python, data structures are containers that organize and group data together in specific ways, allowing for efficient storage, retrieval, and manipulation of information. \n",
    "\n",
    "* List: A list is an ordered, mutable (changeable) collection of items. Lists can hold items of different data types.\n",
    "\n",
    "* Syntax: \n",
    "\n",
    "```Python\n",
    "list_name = [item1, item2, item3, ...]\n",
    "```\n"
   ]
  },
  {
   "cell_type": "code",
   "execution_count": 1,
   "id": "50f1d4e6",
   "metadata": {},
   "outputs": [
    {
     "name": "stdout",
     "output_type": "stream",
     "text": [
      "[10, 20, 30] \n",
      " <class 'list'> \n",
      " 20\n"
     ]
    }
   ],
   "source": [
    "my_list = [10, 20, 30]\n",
    "\n",
    "print(my_list, '\\n', type(my_list), '\\n', my_list[1])  "
   ]
  },
  {
   "cell_type": "markdown",
   "id": "12025bff",
   "metadata": {},
   "source": [
    "* Tuple: A tuple is an ordered, immutable (unchangeable) collection of items. Tuples can also hold items of different data types.\n",
    "* Syntax: \n",
    "```Python\n",
    "tuple_name = (item1, item2, item3, ...)\n",
    "```"
   ]
  },
  {
   "cell_type": "code",
   "execution_count": 2,
   "id": "7dc3c18b",
   "metadata": {},
   "outputs": [
    {
     "name": "stdout",
     "output_type": "stream",
     "text": [
      "(10.0, 20.0, 30.0) \n",
      " <class 'tuple'> \n",
      " 10.0\n"
     ]
    }
   ],
   "source": [
    "coordinates = (10.0, 20.0, 30.0)\n",
    "\n",
    "print(coordinates, '\\n', type(coordinates), '\\n', coordinates[0])  "
   ]
  },
  {
   "cell_type": "code",
   "execution_count": 3,
   "id": "7c816920",
   "metadata": {},
   "outputs": [
    {
     "ename": "TypeError",
     "evalue": "'tuple' object does not support item assignment",
     "output_type": "error",
     "traceback": [
      "\u001b[0;31m---------------------------------------------------------------------------\u001b[0m",
      "\u001b[0;31mTypeError\u001b[0m                                 Traceback (most recent call last)",
      "Cell \u001b[0;32mIn[3], line 1\u001b[0m\n\u001b[0;32m----> 1\u001b[0m coordinates[\u001b[38;5;241m2\u001b[39m] \u001b[38;5;241m=\u001b[39m \u001b[38;5;241m3\u001b[39m\n",
      "\u001b[0;31mTypeError\u001b[0m: 'tuple' object does not support item assignment"
     ]
    }
   ],
   "source": [
    "coordinates[2] = 3"
   ]
  },
  {
   "cell_type": "markdown",
   "id": "c3b23762",
   "metadata": {},
   "source": [
    "* Dictionary: A dictionary is an unordered collection of key-value pairs. Dictionaries are mutable and can hold items of different data types.\n",
    "\n",
    "* Syntax: \n",
    "```Python\n",
    "dict_name = {key1: value1, key2: value2, ...}\n",
    "```"
   ]
  },
  {
   "cell_type": "code",
   "execution_count": 4,
   "id": "4ee97ba1",
   "metadata": {},
   "outputs": [
    {
     "name": "stdout",
     "output_type": "stream",
     "text": [
      "{'name': 'Jane', 'age': 22, 'major': 'Mathematics'}\n"
     ]
    }
   ],
   "source": [
    "student = {\"name\": \"Jane\", \"age\": 22, \"major\": \"Mathematics\"}\n",
    "\n",
    "print(student) "
   ]
  },
  {
   "cell_type": "code",
   "execution_count": 5,
   "id": "85810633",
   "metadata": {},
   "outputs": [
    {
     "data": {
      "text/plain": [
       "dict"
      ]
     },
     "execution_count": 5,
     "metadata": {},
     "output_type": "execute_result"
    }
   ],
   "source": [
    "type(student)"
   ]
  },
  {
   "cell_type": "code",
   "execution_count": 6,
   "id": "0bf2ad56",
   "metadata": {},
   "outputs": [
    {
     "data": {
      "text/plain": [
       "22"
      ]
     },
     "execution_count": 6,
     "metadata": {},
     "output_type": "execute_result"
    }
   ],
   "source": [
    "student[\"age\"]"
   ]
  },
  {
   "cell_type": "markdown",
   "id": "449edb61",
   "metadata": {},
   "source": [
    "### Defining Functions in Python\n",
    "\n",
    "<hr style=\"border:2px solid gray\">\n",
    "\n",
    "* Definition: A function is a block of organized, reusable code that performs a single, related action. \n",
    "\n",
    "```Python\n",
    "def function_name(parameters):\n",
    "    # function body\n",
    "    return result\n",
    "\n",
    "```\n",
    "\n",
    "* An f-string, or formatted string literal, is a feature in Python that provides a way to embed expressions inside string literals, using curly braces `{}`.\n"
   ]
  },
  {
   "cell_type": "code",
   "execution_count": 7,
   "id": "5f3be90d",
   "metadata": {},
   "outputs": [
    {
     "name": "stdout",
     "output_type": "stream",
     "text": [
      "Hello, Jane!\n"
     ]
    }
   ],
   "source": [
    "def greet(name):\n",
    "    \n",
    "    \n",
    "    return f\"Hello, {name}!\"\n",
    "\n",
    "print(greet(\"Jane\"))  \n"
   ]
  },
  {
   "cell_type": "code",
   "execution_count": 8,
   "id": "8edfc6e4",
   "metadata": {},
   "outputs": [
    {
     "name": "stdout",
     "output_type": "stream",
     "text": [
      "Hello, my name is Alice and I am 30 years old.\n"
     ]
    }
   ],
   "source": [
    "name = \"Alice\"\n",
    "age = 30\n",
    "\n",
    "greeting = f\"Hello, my name is {name} and I am {age} years old.\"\n",
    "\n",
    "print(greeting)"
   ]
  },
  {
   "cell_type": "markdown",
   "id": "78eccbfb",
   "metadata": {},
   "source": [
    "### OOP approach\n",
    "<hr style=\"border:2px solid gray\">\n",
    "\n",
    "* Using a dictionary to represent a student as shown above is a simple and effective approach for small-scale programs. \n",
    "\n",
    "* However, this approach has several shortcomings, especially when the application needs to scale or handle more complex behaviors. \n",
    "\n",
    "    * Creating multiple students would require multiple dictionaries, and any change in the structure (e.g., adding a new field) must be manually updated in each dictionary.\n",
    "    \n",
    "    * There is no straightforward way to enforce that the \"age\" field must always be an integer or that the \"major\" field must be a valid string representing a major.\n",
    "    \n",
    "* Let's break down the basics of Object-Oriented Programming (OOP) using a simple example of a `Student` class with `student_id`, `name`, and one `method`.\n",
    "\n",
    "    * Constructor `def __init__(self, student_id, name)`\n",
    "        * Initializes the class with attributes (student_id and name).\n",
    "        * `self` refers to the instance of the class being created.\n",
    "        \n",
    "* In Python, when defining attributes in a class, you don't use `()` because parentheses are used to call methods or functions. Attributes are essentially variables that store data within an object, and they don't require parentheses.\n"
   ]
  },
  {
   "cell_type": "code",
   "execution_count": 9,
   "id": "cdab2179",
   "metadata": {},
   "outputs": [],
   "source": [
    "class Student:\n",
    "    \n",
    "    # Class initialization method (constructor)\n",
    "    def __init__(self, student_id, name):\n",
    "        self.student_id = student_id\n",
    "        self.name = name\n",
    "\n",
    "    # Method to display student information\n",
    "    def display_info(self):\n",
    "        print(f\"Student ID: {self.student_id}\")\n",
    "        print(f\"Name: {self.name}\")\n",
    "        "
   ]
  },
  {
   "cell_type": "code",
   "execution_count": 10,
   "id": "5a214fc0",
   "metadata": {},
   "outputs": [
    {
     "name": "stdout",
     "output_type": "stream",
     "text": [
      "122 Jane\n"
     ]
    }
   ],
   "source": [
    "# Creating an instance of the Student class\n",
    "student1 = Student(student_id=122, name=\"Jane\")\n",
    "\n",
    "# Accessing attributes\n",
    "print(student1.student_id, student1.name)\n"
   ]
  },
  {
   "cell_type": "code",
   "execution_count": 11,
   "id": "c28cc0b6",
   "metadata": {},
   "outputs": [
    {
     "name": "stdout",
     "output_type": "stream",
     "text": [
      "Student ID: 122\n",
      "Name: Jane\n"
     ]
    }
   ],
   "source": [
    "# Calling the method\n",
    "\n",
    "student1.display_info()"
   ]
  },
  {
   "cell_type": "markdown",
   "id": "6aae5ac3",
   "metadata": {},
   "source": [
    "* Let's add a method named `add_courses` to the `Student` class to store a list of courses that a student has taken. Here's the modified class."
   ]
  },
  {
   "cell_type": "code",
   "execution_count": 12,
   "id": "b2114209",
   "metadata": {},
   "outputs": [
    {
     "name": "stdout",
     "output_type": "stream",
     "text": [
      "Student ID: 122\n",
      "Name: Jane\n",
      "Courses Taken: []\n"
     ]
    }
   ],
   "source": [
    "class Student:    \n",
    "    def __init__(self, student_id, name):\n",
    "        self.student_id = student_id\n",
    "        self.name = name\n",
    "        self.courses_taken = []  # Initialize an empty list for courses\n",
    "\n",
    "    # modified method \n",
    "    def display_info(self):\n",
    "        print(f\"Student ID: {self.student_id}\")\n",
    "        print(f\"Name: {self.name}\")\n",
    "        print(\"Courses Taken:\", self.courses_taken)\n",
    "\n",
    "    # new method \n",
    "    def add_courses(self, courses):\n",
    "        self.courses_taken.extend(courses)\n",
    "\n",
    "# Creating an instance of the Student class\n",
    "student1 = Student(student_id=122, name=\"Jane\")\n",
    "\n",
    "# Displaying information for student1\n",
    "student1.display_info()"
   ]
  },
  {
   "cell_type": "code",
   "execution_count": 13,
   "id": "ed8f9dc1",
   "metadata": {},
   "outputs": [
    {
     "name": "stdout",
     "output_type": "stream",
     "text": [
      "Student ID: 122\n",
      "Name: Jane\n",
      "Courses Taken: ['Mathematics', 'History', 'Programming']\n"
     ]
    }
   ],
   "source": [
    "# Adding courses for student1\n",
    "student1.add_courses([\"Mathematics\", \"History\", \"Programming\"])\n",
    "\n",
    "# Displaying information for student1\n",
    "student1.display_info()"
   ]
  },
  {
   "cell_type": "code",
   "execution_count": 14,
   "id": "242d07d3",
   "metadata": {},
   "outputs": [
    {
     "name": "stdout",
     "output_type": "stream",
     "text": [
      "Student ID: 122\n",
      "Name: Jane\n",
      "Courses Taken: ['Mathematics', 'History', 'Programming', 'Statistics']\n"
     ]
    }
   ],
   "source": [
    "# Adding more courses for student1\n",
    "student1.add_courses([\"Statistics\"])\n",
    "\n",
    "# Displaying information for student1\n",
    "student1.display_info()"
   ]
  },
  {
   "cell_type": "markdown",
   "id": "89948b73",
   "metadata": {},
   "source": [
    "* Here's a concise summary of the main syntax for defining a class in Python.\n",
    "\n",
    "```Python\n",
    "class ClassName:\n",
    "    def __init__(self, arguments):\n",
    "        # Constructor method to initialize object attributes\n",
    "        # self refers to the instance being created\n",
    "        # arguments are parameters passed during instance creation\n",
    "\n",
    "    def other_methods(self, arguments):\n",
    "        # Additional methods to define behaviors of the class\n",
    "        # self refers to the instance calling the method\n",
    "        # arguments are parameters specific to each method\n",
    "```\n"
   ]
  },
  {
   "cell_type": "markdown",
   "id": "23d987ae",
   "metadata": {},
   "source": [
    "* Below is a basic implementation of a `CustomArray` class that mimics some of the functionalities of a NumPy array, focusing on Python lists with the attribute 'n', representing the length, along with basic operations such as dot product and vector norm.\n",
    "    * The `math` module in Python is a standard library module that provides mathematical functions and constants.\n",
    "    \n",
    "    * `isinstance` is commonly used for type checking to ensure that an object is of a certain type before performing operations on it.\n",
    "    * You can use `zip` to create pairs of corresponding elements from two lists."
   ]
  },
  {
   "cell_type": "code",
   "execution_count": 15,
   "id": "640c408b",
   "metadata": {},
   "outputs": [
    {
     "name": "stdout",
     "output_type": "stream",
     "text": [
      "[(1, 4), (2, 5), (3, 6)]\n"
     ]
    }
   ],
   "source": [
    "list1 = [1, 2, 3]\n",
    "list2 = [4, 5, 6]\n",
    "\n",
    "combined = list(zip(list1, list2))\n",
    "print(combined)  "
   ]
  },
  {
   "cell_type": "code",
   "execution_count": 16,
   "id": "06b210f9",
   "metadata": {},
   "outputs": [
    {
     "data": {
      "text/plain": [
       "32"
      ]
     },
     "execution_count": 16,
     "metadata": {},
     "output_type": "execute_result"
    }
   ],
   "source": [
    "# dot product: combine corresponding elements from each list, \n",
    "# multiply them together, and then sum the products.\n",
    "\n",
    "sum( x*y for x, y in zip(list1, list2))"
   ]
  },
  {
   "cell_type": "code",
   "execution_count": 17,
   "id": "51b85853",
   "metadata": {},
   "outputs": [],
   "source": [
    "import math\n",
    "\n",
    "class CustomArray:\n",
    "    def __init__(self, data):\n",
    "        if not isinstance(data, list):\n",
    "            raise TypeError(\"Input data must be a list\")\n",
    "            \n",
    "        self.data = data\n",
    "        self.n = len(data)\n",
    "\n",
    "    def dot_product(self, other):\n",
    "        if self.n != other.n:\n",
    "            raise ValueError(\"Input arrays must have the same length\")\n",
    "            \n",
    "        return sum(x * y for x, y in zip(self.data, other.data))\n",
    "\n",
    "    def vector_norm(self):\n",
    "        return math.sqrt(sum(x**2 for x in self.data))\n"
   ]
  },
  {
   "cell_type": "code",
   "execution_count": 18,
   "id": "744cf3d8",
   "metadata": {},
   "outputs": [
    {
     "name": "stdout",
     "output_type": "stream",
     "text": [
      "Dot Product: 32.0\n",
      "Vector Norm: 3.7416573867739413\n"
     ]
    }
   ],
   "source": [
    "# Example usage:\n",
    "array1 = CustomArray([1., 2., 3.])\n",
    "array2 = CustomArray([4., 5., 6.])\n",
    "\n",
    "# Dot product\n",
    "result_dot_product = array1.dot_product(array2)\n",
    "print(\"Dot Product:\", result_dot_product)\n",
    "\n",
    "# Vector norm\n",
    "result_vector_norm = array1.vector_norm()\n",
    "print(\"Vector Norm:\", result_vector_norm)\n"
   ]
  },
  {
   "cell_type": "code",
   "execution_count": 19,
   "id": "50191f51",
   "metadata": {},
   "outputs": [
    {
     "data": {
      "text/plain": [
       "__main__.CustomArray"
      ]
     },
     "execution_count": 19,
     "metadata": {},
     "output_type": "execute_result"
    }
   ],
   "source": [
    "# check the type of array1\n",
    "type(array1)"
   ]
  },
  {
   "cell_type": "markdown",
   "id": "3ed20c9b",
   "metadata": {},
   "source": [
    "* Create a separate `Module`: Create a new file named `custom_array.py` and define your class in it."
   ]
  },
  {
   "cell_type": "code",
   "execution_count": 20,
   "id": "ab9f43a5",
   "metadata": {},
   "outputs": [
    {
     "name": "stdout",
     "output_type": "stream",
     "text": [
      "<class 'custom_array.CustomArray'>\n"
     ]
    }
   ],
   "source": [
    "from custom_array import CustomArray\n",
    "\n",
    "array1 = CustomArray([1, 2, 3])\n",
    "\n",
    "print(type(array1)) # instead of __main__.CustomArray"
   ]
  },
  {
   "cell_type": "markdown",
   "id": "c85c4b50",
   "metadata": {},
   "source": [
    "### Module, package, and library\n",
    "<hr style=\"border:2px solid gray\">\n",
    "\n",
    "* A `module` is a single file containing Python code that can define functions, classes, and variables. \n",
    "    * You can import and use the module in other Python files.\n",
    "    \n",
    "* A `package` is a collection of related modules organized in a directory hierarchy. \n",
    "\n",
    "* A `library` is a collection of modules and packages that provide a set of related functionalities. The term can refer to both the standard library (bundled with Python) and third-party libraries.\n",
    "\n",
    "* `NumPy` (https://numpy.org/) is a package, and it consists of various modules that provide different functionalities. Some of the key modules within the NumPy package include\n",
    "\n",
    "    * numpy.linalg: This module provides linear algebra functions such as matrix multiplication, determinants, eigenvalues, etc.\n",
    "    \n",
    "    * numpy.random: This module provides functions for generating random numbers and performing random sampling."
   ]
  },
  {
   "cell_type": "code",
   "execution_count": 21,
   "id": "cf00ea42",
   "metadata": {},
   "outputs": [
    {
     "name": "stdout",
     "output_type": "stream",
     "text": [
      "Dot Product: 32.0\n",
      "Vector Norm: 3.7416573867739413\n"
     ]
    }
   ],
   "source": [
    "import numpy as np \n",
    "\n",
    "array1 = np.array([1., 2., 3.])\n",
    "array2 = np.array([4., 5., 6.])\n",
    "\n",
    "print(\"Dot Product:\", array1.dot(array2))\n",
    "\n",
    "print(\"Vector Norm:\", np.linalg.norm(array1))\n"
   ]
  },
  {
   "cell_type": "code",
   "execution_count": 22,
   "id": "c32319f2",
   "metadata": {},
   "outputs": [
    {
     "data": {
      "image/png": "[encoded data removed]",
      "text/plain": [
       "<Figure size 640x480 with 1 Axes>"
      ]
     },
     "metadata": {},
     "output_type": "display_data"
    }
   ],
   "source": [
    "# Plot the probability density function of the standard normal distribution\n",
    "# scipy.stats focuses on probability distributions and statistical functions\n",
    "\n",
    "import numpy as np\n",
    "import matplotlib.pyplot as plt\n",
    "from scipy.stats import norm # represents the normal (or Gaussian) probability distribution\n",
    "\n",
    "# Generate a range of x values\n",
    "x = np.linspace(-4, 4, 100)  # From -4 to 4 with 100 points\n",
    "\n",
    "# Create a Normal Distribution with mean=0 and std=1\n",
    "normal_dist = norm(0, 1)\n",
    "\n",
    "# Calculate the probability density function or pdf\n",
    "# at a specific point x along the distribution\n",
    "pdf_values = normal_dist.pdf(x)  \n",
    "\n",
    "# Create the plot\n",
    "plt.plot(x, pdf_values, label='Standard Normal PDF')\n",
    "plt.xlabel('x')\n",
    "plt.ylabel('p(x)')\n",
    "plt.title('Standard Normal Distribution')\n",
    "plt.legend()\n",
    "plt.grid(True)\n",
    "plt.show()"
   ]
  },
  {
   "cell_type": "markdown",
   "id": "5516aa0b",
   "metadata": {},
   "source": [
    "* The probability density function for `normal_dist` is:\n",
    "\n",
    "$$f(x)=\\frac{1}{\\sqrt{2\\pi}}\\exp\\big(-\\frac{x^2}{2}\\big)$$"
   ]
  },
  {
   "cell_type": "code",
   "execution_count": 23,
   "id": "565a4e83",
   "metadata": {},
   "outputs": [
    {
     "ename": "TypeError",
     "evalue": "only length-1 arrays can be converted to Python scalars",
     "output_type": "error",
     "traceback": [
      "\u001b[0;31m---------------------------------------------------------------------------\u001b[0m",
      "\u001b[0;31mTypeError\u001b[0m                                 Traceback (most recent call last)",
      "Cell \u001b[0;32mIn[23], line 6\u001b[0m\n\u001b[1;32m      4\u001b[0m \u001b[38;5;66;03m# Create the plot\u001b[39;00m\n\u001b[1;32m      5\u001b[0m plt\u001b[38;5;241m.\u001b[39mplot(x, pdf_values, label\u001b[38;5;241m=\u001b[39m\u001b[38;5;124m'\u001b[39m\u001b[38;5;124mStandard Normal PDF\u001b[39m\u001b[38;5;124m'\u001b[39m)\n\u001b[0;32m----> 6\u001b[0m plt\u001b[38;5;241m.\u001b[39mplot(x, \u001b[43mour_pdf\u001b[49m\u001b[43m(\u001b[49m\u001b[43mx\u001b[49m\u001b[43m)\u001b[49m, \u001b[38;5;124m'\u001b[39m\u001b[38;5;124mr-.\u001b[39m\u001b[38;5;124m'\u001b[39m, label\u001b[38;5;241m=\u001b[39m\u001b[38;5;124m'\u001b[39m\u001b[38;5;124mOurs\u001b[39m\u001b[38;5;124m'\u001b[39m) \u001b[38;5;66;03m# how should we fix this error? \u001b[39;00m\n\u001b[1;32m      8\u001b[0m plt\u001b[38;5;241m.\u001b[39mxlabel(\u001b[38;5;124m'\u001b[39m\u001b[38;5;124mx\u001b[39m\u001b[38;5;124m'\u001b[39m)\n\u001b[1;32m      9\u001b[0m plt\u001b[38;5;241m.\u001b[39mylabel(\u001b[38;5;124m'\u001b[39m\u001b[38;5;124mp(x)\u001b[39m\u001b[38;5;124m'\u001b[39m)\n",
      "Cell \u001b[0;32mIn[23], line 2\u001b[0m, in \u001b[0;36mour_pdf\u001b[0;34m(x)\u001b[0m\n\u001b[1;32m      1\u001b[0m \u001b[38;5;28;01mdef\u001b[39;00m \u001b[38;5;21mour_pdf\u001b[39m(x):\n\u001b[0;32m----> 2\u001b[0m     \u001b[38;5;28;01mreturn\u001b[39;00m (\u001b[38;5;241m1\u001b[39m\u001b[38;5;241m/\u001b[39mmath\u001b[38;5;241m.\u001b[39msqrt(\u001b[38;5;241m2\u001b[39m\u001b[38;5;241m*\u001b[39mmath\u001b[38;5;241m.\u001b[39mpi)) \u001b[38;5;241m*\u001b[39m math\u001b[38;5;241m.\u001b[39mexp(\u001b[38;5;241m-\u001b[39m\u001b[38;5;241m0.5\u001b[39m\u001b[38;5;241m*\u001b[39m \u001b[43mmath\u001b[49m\u001b[38;5;241;43m.\u001b[39;49m\u001b[43mpow\u001b[49m\u001b[43m(\u001b[49m\u001b[43mx\u001b[49m\u001b[43m,\u001b[49m\u001b[43m \u001b[49m\u001b[38;5;241;43m2\u001b[39;49m\u001b[43m)\u001b[49m)\n",
      "\u001b[0;31mTypeError\u001b[0m: only length-1 arrays can be converted to Python scalars"
     ]
    },
    {
     "data": {
      "image/png": "[encoded data removed]",
      "text/plain": [
       "<Figure size 640x480 with 1 Axes>"
      ]
     },
     "metadata": {},
     "output_type": "display_data"
    }
   ],
   "source": [
    "def our_pdf(x):\n",
    "    return (1/math.sqrt(2*math.pi)) * math.exp(-0.5* math.pow(x, 2))\n",
    "\n",
    "# Create the plot\n",
    "plt.plot(x, pdf_values, label='Standard Normal PDF')\n",
    "plt.plot(x, our_pdf(x), 'r-.', label='Ours') # how should we fix this error? \n",
    "\n",
    "plt.xlabel('x')\n",
    "plt.ylabel('p(x)')\n",
    "plt.title('Standard Normal Distribution')\n",
    "plt.legend()\n",
    "plt.grid(True)\n",
    "plt.show()"
   ]
  },
  {
   "cell_type": "markdown",
   "id": "f839dbbf",
   "metadata": {},
   "source": [
    "### Further reading\n",
    "<hr style=\"border:2px solid gray\">\n",
    "\n",
    "* This lecture provides a rapid overview of key concepts covered in MATH 1376: Programming for Data Science notebooks 1-9. If you are new to Python, a quick review of the relevant lecture notes is highly recommended: https://github.com/farhad-pourkamali/ProgrammingForDataScience\n"
   ]
  },
  {
   "cell_type": "code",
   "execution_count": null,
   "id": "99c1dd09",
   "metadata": {},
   "outputs": [],
   "source": []
  }
 ],
 "metadata": {
  "kernelspec": {
   "display_name": "Python 3 (ipykernel)",
   "language": "python",
   "name": "python3"
  },
  "language_info": {
   "codemirror_mode": {
    "name": "ipython",
    "version": 3
   },
   "file_extension": ".py",
   "mimetype": "text/x-python",
   "name": "python",
   "nbconvert_exporter": "python",
   "pygments_lexer": "ipython3",
   "version": "3.10.9"
  }
 },
 "nbformat": 4,
 "nbformat_minor": 5
}
